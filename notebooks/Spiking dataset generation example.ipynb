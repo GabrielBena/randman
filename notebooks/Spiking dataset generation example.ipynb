{
 "cells": [
  {
   "cell_type": "code",
   "execution_count": 1,
   "metadata": {},
   "outputs": [],
   "source": [
    "%matplotlib inline\n",
    "import matplotlib.pyplot as plt\n",
    "from matplotlib.gridspec import GridSpec\n",
    "import seaborn as sns\n",
    "import numpy as np\n",
    "import os, sys"
   ]
  },
  {
   "cell_type": "code",
   "execution_count": 2,
   "metadata": {},
   "outputs": [],
   "source": [
    "sys.path.append(\"../\")\n",
    "import randman"
   ]
  },
  {
   "cell_type": "code",
   "execution_count": 3,
   "metadata": {},
   "outputs": [],
   "source": [
    "seed = 13"
   ]
  },
  {
   "cell_type": "code",
   "execution_count": 4,
   "metadata": {},
   "outputs": [],
   "source": [
    "def standardize(x, eps=1e-7):\n",
    "    mi, _ = x.min(0)\n",
    "    ma, _ = x.max(0)\n",
    "    return (x - mi) / (ma - mi + eps)\n",
    "\n",
    "\n",
    "def make_spiking_dataset(\n",
    "    nb_classes=10,\n",
    "    nb_units=100,\n",
    "    nb_steps=100,\n",
    "    step_frac=1.0,\n",
    "    dim_manifold=2,\n",
    "    nb_spikes=1,\n",
    "    nb_samples=1000,\n",
    "    alpha=2.0,\n",
    "    shuffle=True,\n",
    "    classification=True,\n",
    "    seed=None,\n",
    "):\n",
    "    \"\"\"Generates event-based generalized spiking randman classification/regression dataset.\n",
    "    In this dataset each unit fires a fixed number of spikes. So ratebased or spike count based decoding won't work.\n",
    "    All the information is stored in the relative timing between spikes.\n",
    "    For regression datasets the intrinsic manifold coordinates are returned for each target.\n",
    "    Args:\n",
    "        nb_classes: The number of classes to generate\n",
    "        nb_units: The number of units to assume\n",
    "        nb_steps: The number of time steps to assume\n",
    "        step_frac: Fraction of time steps from beginning of each to contain spikes (default 1.0)\n",
    "        nb_spikes: The number of spikes per unit\n",
    "        nb_samples: Number of samples from each manifold per class\n",
    "        alpha: Randman smoothness parameter\n",
    "        shuffe: Whether to shuffle the dataset\n",
    "        classification: Whether to generate a classification (default) or regression dataset\n",
    "        seed: The random seed (default: None)\n",
    "    Returns:\n",
    "        A tuple of data,labels. The data is structured as numpy array\n",
    "        (sample x event x 2 ) where the last dimension contains\n",
    "        the relative [0,1] (time,unit) coordinates and labels.\n",
    "    \"\"\"\n",
    "\n",
    "    data = []\n",
    "    labels = []\n",
    "    targets = []\n",
    "\n",
    "    if seed is not None:\n",
    "        np.random.seed(seed)\n",
    "\n",
    "    # max_value = np.iinfo(np.int).max\n",
    "    max_value = 1e10\n",
    "    randman_seeds = np.random.randint(max_value, size=(nb_classes, nb_spikes))\n",
    "\n",
    "    for k in range(nb_classes):\n",
    "        x = np.random.rand(nb_samples, dim_manifold)\n",
    "        submans = [\n",
    "            randman.Randman(nb_units, dim_manifold, alpha=alpha, seed=randman_seeds[k, i])\n",
    "            for i in range(nb_spikes)\n",
    "        ]\n",
    "        units = []\n",
    "        times = []\n",
    "        for i, rm in enumerate(submans):\n",
    "            y = rm.eval_manifold(x)\n",
    "            y = standardize(y)\n",
    "            units.append(np.repeat(np.arange(nb_units).reshape(1, -1), nb_samples, axis=0))\n",
    "            times.append(y.numpy())\n",
    "\n",
    "        units = np.concatenate(units, axis=1)\n",
    "        times = np.concatenate(times, axis=1)\n",
    "        events = np.stack([times, units], axis=2)\n",
    "        data.append(events)\n",
    "        labels.append(k * np.ones(len(units)))\n",
    "        targets.append(x)\n",
    "\n",
    "    data = np.concatenate(data, axis=0)\n",
    "    labels = np.array(np.concatenate(labels, axis=0)).astype(int)\n",
    "    targets = np.concatenate(targets, axis=0)\n",
    "\n",
    "    if shuffle:\n",
    "        idx = np.arange(len(data))\n",
    "        np.random.shuffle(idx)\n",
    "        data = data[idx]\n",
    "        labels = labels[idx]\n",
    "        targets = targets[idx]\n",
    "\n",
    "    data[:, :, 0] *= nb_steps * step_frac\n",
    "    # data = np.array(data, dtype=int)\n",
    "\n",
    "    if classification:\n",
    "        return data, labels\n",
    "    else:\n",
    "        return data, targets"
   ]
  },
  {
   "cell_type": "code",
   "execution_count": 5,
   "metadata": {},
   "outputs": [],
   "source": [
    "# Create randman spiking dataset\n",
    "data, labels = make_spiking_dataset(\n",
    "    nb_classes=2, nb_units=30, nb_steps=100, dim_manifold=1, seed=42, nb_spikes=1, shuffle=True\n",
    ")"
   ]
  },
  {
   "cell_type": "code",
   "execution_count": 7,
   "metadata": {},
   "outputs": [
    {
     "data": {
      "text/plain": [
       "array([[60.73658466, 39.91003036, 57.75480866, ..., 77.87185311,\n",
       "        13.93392235, 68.43832731],\n",
       "       [17.74590313, 18.85696799, 73.12753201, ..., 61.00797057,\n",
       "        60.26594043, 63.09661269],\n",
       "       [35.56572497, 66.82979465, 19.55391318, ..., 32.93485045,\n",
       "         7.59997219, 17.89022535],\n",
       "       ...,\n",
       "       [75.46282411, 19.25308257, 38.06203306, ..., 70.61852813,\n",
       "        95.655334  , 86.63207293],\n",
       "       [87.19874024, 55.75323105, 25.49854219, ..., 97.13426828,\n",
       "        61.82884574, 99.99991059],\n",
       "       [38.57266009, 67.11211801, 38.37193251, ..., 56.54171109,\n",
       "        44.74936128,  4.5346275 ]])"
      ]
     },
     "execution_count": 7,
     "metadata": {},
     "output_type": "execute_result"
    }
   ],
   "source": [
    "data[..., 0]"
   ]
  },
  {
   "cell_type": "code",
   "execution_count": 30,
   "metadata": {},
   "outputs": [
    {
     "data": {
      "image/png": "[encoded data removed]",
      "text/plain": [
       "<Figure size 700x180 with 5 Axes>"
      ]
     },
     "metadata": {},
     "output_type": "display_data"
    }
   ],
   "source": [
    "# Show spike raster plots four random example inputs\n",
    "\n",
    "gs = GridSpec(1, 5)\n",
    "fig = plt.figure(figsize=(7, 1.8), dpi=100)\n",
    "\n",
    "for i in range(5):\n",
    "    ax = fig.add_subplot(gs[i])\n",
    "    ax.scatter(data[i, :, 0], data[i, :, 1], marker=\".\", color=sns.color_palette()[labels[i]])\n",
    "    ax.set_xlabel(\"Time\")\n",
    "    if i == 0:\n",
    "        ax.set_ylabel(\"Neuron\")\n",
    "\n",
    "plt.tight_layout()\n",
    "sns.despine()"
   ]
  },
  {
   "cell_type": "code",
   "execution_count": null,
   "metadata": {},
   "outputs": [],
   "source": []
  }
 ],
 "metadata": {
  "kernelspec": {
   "display_name": "Python 3",
   "language": "python",
   "name": "python3"
  },
  "language_info": {
   "codemirror_mode": {
    "name": "ipython",
    "version": 3
   },
   "file_extension": ".py",
   "mimetype": "text/x-python",
   "name": "python",
   "nbconvert_exporter": "python",
   "pygments_lexer": "ipython3",
   "version": "3.12.3"
  }
 },
 "nbformat": 4,
 "nbformat_minor": 2
}
