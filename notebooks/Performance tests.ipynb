{
 "cells": [
  {
   "cell_type": "code",
   "execution_count": 13,
   "metadata": {},
   "outputs": [],
   "source": [
    "%matplotlib inline\n",
    "import matplotlib.pyplot as plt\n",
    "import seaborn as sns\n",
    "import numpy as np\n",
    "import os, sys\n",
    "import time"
   ]
  },
  {
   "cell_type": "code",
   "execution_count": 14,
   "metadata": {},
   "outputs": [],
   "source": [
    "sys.path.append(\"../\")\n",
    "from randman import NumpyRandman, TorchRandman"
   ]
  },
  {
   "cell_type": "code",
   "execution_count": 18,
   "metadata": {},
   "outputs": [
    {
     "name": "stdout",
     "output_type": "stream",
     "text": [
      "100\n",
      "NumPy: 3.384925s\n",
      "Torch: 6.506753s\n",
      "GPU: 28.225970s\n",
      "1000\n",
      "NumPy: 10.732787s\n",
      "Torch: 11.239008s\n",
      "GPU: 28.609972s\n",
      "10000\n",
      "NumPy: 79.722849s\n",
      "Torch: 57.675379s\n",
      "GPU: 28.725941s\n",
      "100000\n",
      "NumPy: 778.000678s\n",
      "Torch: 187.108907s\n",
      "GPU: 29.559113s\n",
      "1000000\n",
      "NumPy: 9477.241735s\n",
      "Torch: 1549.031467s\n",
      "GPU: 78.359199s\n"
     ]
    }
   ],
   "source": [
    "res = []\n",
    "for nb_samp in [1e2, 1e3, 1e4, 1e5, 1e6]:\n",
    "    nb_samp = int(nb_samp)\n",
    "    print(nb_samp)\n",
    "    \n",
    "    rm = NumpyRandman(1000,10)\n",
    "    t0 = time.time()\n",
    "    x,y = rm.get_random_manifold_samples(nb_samp)\n",
    "    r_numpy = time.time()-t0\n",
    "    print(\"NumPy: %fs\"%(r_numpy))\n",
    "    \n",
    "    \n",
    "    rm = TorchRandman(1000,10)\n",
    "    t0 = time.time()\n",
    "    x,y = rm.get_random_manifold_samples(nb_samp)\n",
    "    r_torch = time.time()-t0\n",
    "    print(\"Torch: %fs\"%(r_torch))\n",
    "\n",
    "    device=torch.device(\"cuda\")\n",
    "    rm = TorchRandman(1000,10,device=device)\n",
    "    t0 = time.time()\n",
    "    x,y = rm.get_random_manifold_samples(nb_samp)\n",
    "    r_gpu = time.time()-t0\n",
    "    print(\"GPU: %fs\"%(r_gpu))\n",
    "    \n",
    "    res.append((nb_samp, r_numpy, r_torch, r_gpu))"
   ]
  },
  {
   "cell_type": "code",
   "execution_count": 19,
   "metadata": {},
   "outputs": [
    {
     "data": {
      "image/png": "[encoded data removed]",
      "text/plain": [
       "<Figure size 432x288 with 1 Axes>"
      ]
     },
     "metadata": {},
     "output_type": "display_data"
    }
   ],
   "source": [
    "dat=np.array(res)\n",
    "plt.plot(dat[:,0],dat[:,1:])\n",
    "plt.legend(labels=[\"Numpy\", \"Torch CPU\", \"Torch GPU\"])\n",
    "plt.xlabel(\"Num. datapoints\")\n",
    "plt.ylabel(\"Wall clock time (s)\")\n",
    "plt.loglog()\n",
    "sns.despine()"
   ]
  },
  {
   "cell_type": "code",
   "execution_count": null,
   "metadata": {},
   "outputs": [],
   "source": []
  },
  {
   "cell_type": "code",
   "execution_count": null,
   "metadata": {},
   "outputs": [],
   "source": []
  },
  {
   "cell_type": "code",
   "execution_count": null,
   "metadata": {},
   "outputs": [],
   "source": []
  },
  {
   "cell_type": "code",
   "execution_count": null,
   "metadata": {},
   "outputs": [],
   "source": []
  }
 ],
 "metadata": {
  "kernelspec": {
   "display_name": "Python 3",
   "language": "python",
   "name": "python3"
  },
  "language_info": {
   "codemirror_mode": {
    "name": "ipython",
    "version": 3
   },
   "file_extension": ".py",
   "mimetype": "text/x-python",
   "name": "python",
   "nbconvert_exporter": "python",
   "pygments_lexer": "ipython3",
   "version": "3.6.5"
  }
 },
 "nbformat": 4,
 "nbformat_minor": 2
}
